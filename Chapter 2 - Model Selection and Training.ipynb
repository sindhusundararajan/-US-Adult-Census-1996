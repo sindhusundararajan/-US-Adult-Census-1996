{
 "cells": [
  {
   "cell_type": "markdown",
   "metadata": {},
   "source": [
    "## Introduction\n",
    "\n",
    "In Chapter 2 we will work on the classification model of the US Census data that was analyzed in Chapter 1. My biggest interest in modelling will be dealing with the class imbalance of the target variable. In particular, I am interested in the following aspects:\n",
    "<ul>\n",
    "<li> How best to assess the accuracy of the classifier. It is unlikely that accuracy will suffice, because of the [accuracy paradox](https://en.wikipedia.org/wiki/Accuracy_paradox).\n",
    "<li> What are some approaches that we can use to deal with the class imbalance? Examples include oversampling, undersampling, incorporating clustering algorithms, etc...\n",
    "</ul>\n",
    "<br>\n",
    "<br>\n",
    "## Results\n",
    "I ran standard regression forests and logistic regressions, using the scikit-learn ***GridSearchCV*** functionality. This fits a set of classifiers for a given range of parameters and returns the best classifier, according to a provided scoring metric (eg accuracy, precision, recall, etc...). I performed cross-validation using a 70/30 trainining data / test data split. The ***GridSearchCV*** function performed 5-fold cross validation to find the best parameters. <br>\n",
    "<br>\n",
    "The results show that the random forests outperform the logistic regression.  <br>\n",
    "<br>\n",
    "After splitting the data for cross-validation, the distribution of positive and negative labels for the **test data** set is given by the following confusion matrix:\n",
    "<table>\n",
    "<tr>  <td> </td> <td align=\"center\"> prediction 0 </td> <td align=\"center\"> prediction 1 </td> </tr>\n",
    "<tr> <td> class 0 </td> <td align='center'> 42,215 </td> <td align=\"center\"> 0 </td> </tr>\n",
    "<tr> <td> class 1 </td> <td align='center'>   0 </td> <td align=\"center\"> 3,654 </td> </tr>\n",
    "</table>\n",
    "\n",
    "The random forest optimized for ***accuracy*** has the following classification results, as well as associated precision and recall values:\n",
    "<table>\n",
    "<tr>  <td> </td> <td> prediction 0 </td> <td> prediction 1 </td> <td>precision</td> <td>recall</td> </tr>\n",
    "<tr> <td> class 0 </td> <td align=\"right\"> 41,638 </td> <td align=\"right\"> 577 </td> <td> 0.95231 </td> <td> 0.98633 </td> </tr>\n",
    "<tr> <td> class 1 </td> <td align=\"right\">  2,085 </td> <td align=\"right\"> 1,569 </td> <td> 0.73113 </td> <td> 0.42939</td></tr>\n",
    "</table>\n",
    "\n",
    "The random forest optimized for ***precision*** has the following classification results, as well as associated precision and recall values:\n",
    "<table>\n",
    "<tr>  <td> </td> <td align=\"center\"> prediction 0 </td> <td align=\"center\"> prediction 1 </td> <td>precision</td> <td>recall</td> </tr>\n",
    "<tr> <td> class 0 </td> <td align=\"center\"> 42,128 </td> <td align=\"center\"> 87 </td> <td>  0.93197 </td> <td> 0.99794 </td></tr>\n",
    "<tr> <td> class 1 </td> <td align=\"right\">  3,075 </td> <td align=\"center\"> 579 </td> <td>  0.86937 </td> <td> 0.15846 </td></tr>\n",
    "</table>\n",
    "\n",
    "The random forest optimized for ***recall*** has the following classification results, as well as associated precision and recall values:\n",
    "<table>\n",
    "<tr>  <td> </td> <td align=\"center\"> prediction 0 </td> <td align=\"center\"> prediction 1 </td> <td>precision</td> <td>recall</td></tr>\n",
    "<tr> <td> class 0 </td> <td align=\"center\"> 38,673 </td> <td align=\"center\"> 3,542 </td> <td>  0.97071 </td> <td> 0.91610 </td> </tr>\n",
    "<tr> <td> class 1 </td> <td align=\"right\">  1,167 </td> <td align=\"center\"> 2,487 </td> <td>  0.41251 </td> <td> 0.68062 </td> </tr>\n",
    "</table>\n",
    "\n",
    "The results for the ***random undersampling*** and random forests have the following classification results, as well as the associated precision and recall values:\n",
    "\n",
    "<table>\n",
    "<tr>  <td> </td> <td align=\"center\"> prediction 0 </td> <td align=\"center\"> prediction 1 </td> <td>precision</td> <td>recall</td></tr>\n",
    "<tr> <td> class 0 </td> <td align=\"center\"> 18,013 </td> <td align=\"center\"> 24,202 </td> <td>  0.99778 </td> <td> 0.42670 </td> </tr>\n",
    "<tr> <td> class 1 </td> <td align=\"right\">  40 </td> <td align=\"center\"> 3,614 </td> <td>  0.12993 </td> <td> 0.98905 </td> </tr>\n",
    "</table>\n",
    "\n",
    "The results for the ***undersampling via Tomek Links*** and random forests have the following classification results, as well as the associated precision and recall values:\n",
    "\n",
    "<table>\n",
    "<tr>  <td> </td> <td align=\"center\"> prediction 0 </td> <td align=\"center\"> prediction 1 </td> <td>precision</td> <td>recall</td></tr>\n",
    "<tr> <td> class 0 </td> <td align=\"center\"> 38,536 </td> <td align=\"center\"> 3,679 </td> <td>  0.97198 </td> <td> 0.91285 </td> </tr>\n",
    "<tr> <td> class 1 </td> <td align=\"right\">  1,111 </td> <td align=\"center\"> 2,543 </td> <td>  0.40871 </td> <td> 0.69595 </td> </tr>\n",
    "</table>\n",
    "\n",
    "The results for the ***random oversampling*** and random forests have the following classification results, as well as the associated precision and recall values:\n",
    "\n",
    "<table>\n",
    "<tr>  <td> </td> <td align=\"center\"> prediction 0 </td> <td align=\"center\"> prediction 1 </td> <td>precision</td> <td>recall</td></tr>\n",
    "<tr> <td> class 0 </td> <td align=\"center\"> 41,606 </td> <td align=\"center\"> 609 </td> <td>  1.00000 </td> <td> 0.98557 </td> </tr>\n",
    "<tr> <td> class 1 </td> <td align=\"right\">  0 </td> <td align=\"center\"> 3,654 </td> <td>  0.85714 </td> <td> 1.00000 </td> </tr>\n",
    "</table>\n",
    "\n",
    "<br>\n"
   ]
  },
  {
   "cell_type": "code",
   "execution_count": 1,
   "metadata": {
    "collapsed": true
   },
   "outputs": [],
   "source": [
    "import pandas as pd\n",
    "import numpy as np\n",
    "from matplotlib import pyplot as plt\n",
    "import seaborn as sns\n",
    "\n",
    "from sklearn.cross_validation import train_test_split\n",
    "from sklearn.ensemble import RandomForestClassifier\n",
    "from sklearn.linear_model import LogisticRegression\n",
    "from sklearn.grid_search import GridSearchCV\n",
    "from sklearn.preprocessing import MinMaxScaler\n",
    "\n",
    "from sklearn.metrics import confusion_matrix\n",
    "from sklearn.metrics import classification_report\n",
    "from sklearn.metrics import roc_curve\n",
    "from sklearn.metrics import auc\n",
    "\n",
    "\n",
    "%matplotlib inline"
   ]
  },
  {
   "cell_type": "markdown",
   "metadata": {},
   "source": [
    "## Preprocessing Data"
   ]
  },
  {
   "cell_type": "code",
   "execution_count": 2,
   "metadata": {
    "collapsed": true
   },
   "outputs": [],
   "source": [
    "# preprocessing function - developped in Chapter 1\n",
    "the_columns  = [('age', 'continuous'), \n",
    "                ('class_of_worker', 'nominal'), \n",
    "                ('detailed_industry_code', 'nominal'), \n",
    "                ('detailed_occupation_code', 'nominal'), \n",
    "                ('education', 'nominal'), \n",
    "                ('wage_per_hour', 'continuous'), \n",
    "                ('enrolled_in_edu_last_week', 'nominal'),\n",
    "                ('marital_status', 'nominal'),\n",
    "                ('major_industry_code', 'nominal'),\n",
    "                ('major_occupation_code', 'nominal'),\n",
    "                ('race', 'nominal'),\n",
    "                ('hispanic_origin', 'nominal'),\n",
    "                ('sex', 'binary'), # binary column with values Male/Female\n",
    "                ('member_of_labor_union', 'nominal'), \n",
    "                ('reason_for_unemployment', 'nominal'),\n",
    "                ('full_or_part_time_employment_stat', 'nominal'),\n",
    "                ('capital_gains', 'continuous'),\n",
    "                ('capital_losses', 'continuous'),\n",
    "                ('dividends', 'continuous'),\n",
    "                ('tax_filer', 'nominal'),\n",
    "                ('region_of_previous_residence', 'nominal'),\n",
    "                ('state_of_previous_residence', 'nominal'),\n",
    "                ('detailed_household_family_stat', 'nominal'),\n",
    "                ('detailed_household_summary', 'nominal'),\n",
    "                ('instance_weight', 'IGNORE'), # as per instructions, to be dropped\n",
    "                ('migration_code_change_in_msa', 'nominal'),\n",
    "                ('migration_code_change_in_reg', 'nominal'),\n",
    "                ('migration_code_move_within_reg', 'nominal'),\n",
    "                ('live_in_this_house_1_yr_ago', 'nominal'),\n",
    "                ('migration_prev_res_in_sunbelt', 'nominal'),\n",
    "                ('num_persons_worked_for_employer', 'continuous'),\n",
    "                ('family_members_under_18', 'nominal'),\n",
    "                ('cob_father', 'nominal'),\n",
    "                ('cob_mother', 'nominal'),\n",
    "                ('cob_self', 'nominal'),\n",
    "                ('citizenship', 'nominal'),\n",
    "                ('own_business_or_self_employed', 'nominal'),\n",
    "                ('fill_in_questionnaire_for_veterans_admin', 'nominal'),\n",
    "                ('veterans_benefits', 'nominal'),\n",
    "                ('weeks_worked_in_year', 'nominal'),\n",
    "                ('year', 'nominal'), \n",
    "                ('savings','target')] # binary TARGET variable\n"
   ]
  },
  {
   "cell_type": "code",
   "execution_count": 3,
   "metadata": {
    "collapsed": true
   },
   "outputs": [],
   "source": [
    "def preprocessData(file_name):\n",
    "    # the_columns stores tuples of (column_name and tag for continuous/nominal/binary/target)\n",
    "    \n",
    "    raw_data = pd.read_csv(file_name, names=[c[0] for c in the_columns], index_col=False)\n",
    "    original_shape = raw_data.shape\n",
    "    \n",
    "    raw_data.drop('instance_weight', axis=1, inplace=True)\n",
    "    the_columns.remove(('instance_weight', 'IGNORE'))\n",
    "    \n",
    "    # find the duplicate rows, keep the first one\n",
    "    duplicate_rows = raw_data.duplicated(keep='first')\n",
    "    \n",
    "    print 'number of duplicates = {:d}'.format(duplicate_rows.sum())\n",
    "    raw_data = raw_data.drop_duplicates(keep='first')\n",
    "    new_shape =  raw_data.shape\n",
    "    print 'number of duplicates removed = {:d}'.format(original_shape[0] - new_shape[0])\n",
    "    print 'original shape = {:d}, {:d}'.format(original_shape[0], original_shape[1])\n",
    "    print 'new shape = {:d}, {:d}'.format(raw_data.shape[0], raw_data.shape[1])\n",
    "    \n",
    "    # convert nominal columns (object dtype) to integer type\n",
    "    data = pd.DataFrame(raw_data.select_dtypes(include=['object']))\n",
    "    object_columns = data.columns\n",
    "    \n",
    "    for column in object_columns:\n",
    "        unique_values = data[column].unique()\n",
    "        dictionary = {key:idx for idx,key in enumerate(unique_values)}\n",
    "        data[column] = data[column].apply(lambda x : dictionary[x])\n",
    "    \n",
    "    # add nominal columns that were already in integer format \n",
    "    nominal_integer_columns = [c[0] for c in the_columns \n",
    "                               if c[1] == 'nominal' and c[0] not in data.columns]\n",
    "    data[nominal_integer_columns] = raw_data[nominal_integer_columns]\n",
    "    \n",
    "    # convert 'sex', and 'savings' columns to binary; add year column\n",
    "    data['savings'] = raw_data['savings'].map(lambda x: \n",
    "                                              1 if str(x).strip() == '50000+.' else 0)\n",
    "    data['sex'] = raw_data['sex'].map(lambda x: \n",
    "                                      1 if str(x).strip() == 'Male' else 0)\n",
    "    data['year'] = raw_data['year']\n",
    "    \n",
    "    # add continuous columns\n",
    "    continuous_columns = [c[0] for c in the_columns if c[1] == 'continuous']\n",
    "    data[continuous_columns] = raw_data[continuous_columns]\n",
    "    \n",
    "    # verify that we aren't missing any columns\n",
    "    assert set(data.columns) == (set(raw_data.columns))\n",
    "    \n",
    "    text = 'The final processed data has {:,d} rows and {:d} columns.\\n'\n",
    "    print text.format(data.shape[0], data.shape[1])\n",
    "    return data\n"
   ]
  },
  {
   "cell_type": "code",
   "execution_count": 4,
   "metadata": {},
   "outputs": [
    {
     "name": "stdout",
     "output_type": "stream",
     "text": [
      "number of duplicates = 46627\n",
      "number of duplicates removed = 46627\n",
      "original shape = 199523, 42\n",
      "new shape = 152896, 41\n",
      "The final processed data has 152,896 rows and 41 columns.\n",
      "\n"
     ]
    }
   ],
   "source": [
    "data = preprocessData('us_census_full/census_income_learn.csv')"
   ]
  },
  {
   "cell_type": "code",
   "execution_count": 5,
   "metadata": {},
   "outputs": [
    {
     "data": {
      "text/html": [
       "<div>\n",
       "<table border=\"1\" class=\"dataframe\">\n",
       "  <thead>\n",
       "    <tr style=\"text-align: right;\">\n",
       "      <th></th>\n",
       "      <th>class_of_worker</th>\n",
       "      <th>education</th>\n",
       "      <th>enrolled_in_edu_last_week</th>\n",
       "      <th>marital_status</th>\n",
       "      <th>major_industry_code</th>\n",
       "      <th>major_occupation_code</th>\n",
       "      <th>race</th>\n",
       "      <th>hispanic_origin</th>\n",
       "      <th>sex</th>\n",
       "      <th>member_of_labor_union</th>\n",
       "      <th>...</th>\n",
       "      <th>own_business_or_self_employed</th>\n",
       "      <th>veterans_benefits</th>\n",
       "      <th>weeks_worked_in_year</th>\n",
       "      <th>year</th>\n",
       "      <th>age</th>\n",
       "      <th>wage_per_hour</th>\n",
       "      <th>capital_gains</th>\n",
       "      <th>capital_losses</th>\n",
       "      <th>dividends</th>\n",
       "      <th>num_persons_worked_for_employer</th>\n",
       "    </tr>\n",
       "  </thead>\n",
       "  <tbody>\n",
       "    <tr>\n",
       "      <th>0</th>\n",
       "      <td>0</td>\n",
       "      <td>0</td>\n",
       "      <td>0</td>\n",
       "      <td>0</td>\n",
       "      <td>0</td>\n",
       "      <td>0</td>\n",
       "      <td>0</td>\n",
       "      <td>0</td>\n",
       "      <td>0</td>\n",
       "      <td>0</td>\n",
       "      <td>...</td>\n",
       "      <td>0</td>\n",
       "      <td>2</td>\n",
       "      <td>0</td>\n",
       "      <td>95</td>\n",
       "      <td>73</td>\n",
       "      <td>0</td>\n",
       "      <td>0</td>\n",
       "      <td>0</td>\n",
       "      <td>0</td>\n",
       "      <td>0</td>\n",
       "    </tr>\n",
       "    <tr>\n",
       "      <th>1</th>\n",
       "      <td>1</td>\n",
       "      <td>1</td>\n",
       "      <td>0</td>\n",
       "      <td>1</td>\n",
       "      <td>1</td>\n",
       "      <td>1</td>\n",
       "      <td>0</td>\n",
       "      <td>0</td>\n",
       "      <td>1</td>\n",
       "      <td>0</td>\n",
       "      <td>...</td>\n",
       "      <td>0</td>\n",
       "      <td>2</td>\n",
       "      <td>52</td>\n",
       "      <td>94</td>\n",
       "      <td>58</td>\n",
       "      <td>0</td>\n",
       "      <td>0</td>\n",
       "      <td>0</td>\n",
       "      <td>0</td>\n",
       "      <td>1</td>\n",
       "    </tr>\n",
       "    <tr>\n",
       "      <th>2</th>\n",
       "      <td>0</td>\n",
       "      <td>2</td>\n",
       "      <td>1</td>\n",
       "      <td>2</td>\n",
       "      <td>0</td>\n",
       "      <td>0</td>\n",
       "      <td>1</td>\n",
       "      <td>0</td>\n",
       "      <td>0</td>\n",
       "      <td>0</td>\n",
       "      <td>...</td>\n",
       "      <td>0</td>\n",
       "      <td>2</td>\n",
       "      <td>0</td>\n",
       "      <td>95</td>\n",
       "      <td>18</td>\n",
       "      <td>0</td>\n",
       "      <td>0</td>\n",
       "      <td>0</td>\n",
       "      <td>0</td>\n",
       "      <td>0</td>\n",
       "    </tr>\n",
       "  </tbody>\n",
       "</table>\n",
       "<p>3 rows × 41 columns</p>\n",
       "</div>"
      ],
      "text/plain": [
       "   class_of_worker  education  enrolled_in_edu_last_week  marital_status  \\\n",
       "0                0          0                          0               0   \n",
       "1                1          1                          0               1   \n",
       "2                0          2                          1               2   \n",
       "\n",
       "   major_industry_code  major_occupation_code  race  hispanic_origin  sex  \\\n",
       "0                    0                      0     0                0    0   \n",
       "1                    1                      1     0                0    1   \n",
       "2                    0                      0     1                0    0   \n",
       "\n",
       "   member_of_labor_union               ...                 \\\n",
       "0                      0               ...                  \n",
       "1                      0               ...                  \n",
       "2                      0               ...                  \n",
       "\n",
       "   own_business_or_self_employed  veterans_benefits  weeks_worked_in_year  \\\n",
       "0                              0                  2                     0   \n",
       "1                              0                  2                    52   \n",
       "2                              0                  2                     0   \n",
       "\n",
       "   year  age  wage_per_hour  capital_gains  capital_losses  dividends  \\\n",
       "0    95   73              0              0               0          0   \n",
       "1    94   58              0              0               0          0   \n",
       "2    95   18              0              0               0          0   \n",
       "\n",
       "   num_persons_worked_for_employer  \n",
       "0                                0  \n",
       "1                                1  \n",
       "2                                0  \n",
       "\n",
       "[3 rows x 41 columns]"
      ]
     },
     "execution_count": 5,
     "metadata": {},
     "output_type": "execute_result"
    }
   ],
   "source": [
    "data.head(3)"
   ]
  },
  {
   "cell_type": "markdown",
   "metadata": {},
   "source": [
    "## One-Hot Encoded Data\n",
    "This will be required for logistic regression."
   ]
  },
  {
   "cell_type": "code",
   "execution_count": 6,
   "metadata": {
    "collapsed": true
   },
   "outputs": [],
   "source": [
    "def one_hot_encode_nominal_columns(data):\n",
    "    nominal_columns = [c[0] for c in the_columns if c[1] == 'nominal']\n",
    "    \n",
    "    dummy_columns = [pd.get_dummies(data[col], prefix=col, prefix_sep='.') \n",
    "                     for col in nominal_columns]\n",
    "    \n",
    "    one_hot_encoded_data = pd.concat(dummy_columns, axis=1)\n",
    "    print '\\nThere were {:d} nominal columns to be converted.'.format(len(nominal_columns))\n",
    "    print 'The number of one-hot-encoded columns is {:d}.\\n'.format(data.shape[1])\n",
    "    \n",
    "    # check size\n",
    "    count_distinct_values = 0\n",
    "    for column in nominal_columns:\n",
    "        count_distinct_values += len(data[column].unique())\n",
    "    \n",
    "    assert count_distinct_values == one_hot_encoded_data.shape[1], \\\n",
    "        \"mismatch between number of dummy columns and unique values\"\n",
    "    \n",
    "    return one_hot_encoded_data"
   ]
  },
  {
   "cell_type": "code",
   "execution_count": 7,
   "metadata": {},
   "outputs": [
    {
     "name": "stdout",
     "output_type": "stream",
     "text": [
      "\n",
      "There were 33 nominal columns to be converted.\n",
      "The number of one-hot-encoded columns is 41.\n",
      "\n",
      "The final shape is: 152,896 x 561.\n",
      "To verify scaling: max = 1.00, min=0.00\n",
      "\n"
     ]
    }
   ],
   "source": [
    "ohe_data = one_hot_encode_nominal_columns(data)\n",
    "\n",
    "# add target (savings)\n",
    "ohe_data['savings'] = data['savings']\n",
    "\n",
    "# scale and add continuous columns\n",
    "min_max_scaler = MinMaxScaler()\n",
    "continuous_cols = [c[0] for c in the_columns if c[1] == 'continuous']\n",
    "ohe_data[continuous_cols] = pd.DataFrame(min_max_scaler.fit_transform(\n",
    "        data[continuous_cols]), columns=continuous_cols, index = data.index)\n",
    "\n",
    "print 'The final shape is: {:,d} x {:d}.'.format(ohe_data.shape[0], ohe_data.shape[1])\n",
    "mx = ohe_data.max().max()\n",
    "mn = ohe_data.min().min()\n",
    "print 'To verify scaling: max = {:.2f}, min={:.2f}\\n'.format(mx, mn)"
   ]
  },
  {
   "cell_type": "markdown",
   "metadata": {},
   "source": [
    "## Functions for Modelling"
   ]
  },
  {
   "cell_type": "code",
   "execution_count": 8,
   "metadata": {},
   "outputs": [],
   "source": [
    "def get_train_test_data_sets(X, y):\n",
    "    # obtain training and test set for cross-validation using a 70% split\n",
    "    # print statistics regarding class imbalance of training and test sets\n",
    "\n",
    "    X_train, X_test, y_train, y_test = train_test_split(X, y, test_size=0.3, random_state=1)\n",
    "    print 'size of training data: {:7d}, {:3d}'.format(X_train.shape[0], X_train.shape[1])\n",
    "    print 'size of test data:     {:7d}, {:3d}'.format(X_test.shape[0], X_test.shape[1])\n",
    "    print\n",
    "    ytr0, ytr1 = (y_train == 0).sum(), (y_train == 1).sum()\n",
    "    yte0, yte1 = (y_test == 0).sum(), (y_test == 1).sum()\n",
    "    print 'y_train==0: {:6d},  y_train==1: {:4d},  balance: {:.4f}'.format(\n",
    "        ytr0, ytr1, float(ytr0)/(ytr0+ytr1))\n",
    "    print 'y_test==0:  {:6d},  y_test==1:  {:4d},  balance: {:.4f}'.format(\n",
    "        yte0, yte1, float(yte0)/(yte0+yte1))\n",
    "    \n",
    "    return X_train, X_test, y_train, y_test"
   ]
  },
  {
   "cell_type": "code",
   "execution_count": 9,
   "metadata": {},
   "outputs": [],
   "source": [
    "def print_confusion_matrix(y_true, y_pred):\n",
    "    # print confusion matrix\n",
    "    header = '\\t          prediction 0    prediction 1'\n",
    "    row0 =   '\\tclass 0 {:11,d} {:14,d}'\n",
    "    row1 =   '\\tclass 1 {:11,d} {:14,d}'\n",
    "    cm = confusion_matrix(y_true, y_pred)\n",
    "    print header\n",
    "    print row0.format(cm[0,0], cm[0,1])\n",
    "    print row1.format(cm[1,0], cm[1,1])\n",
    "    tp, fn = float(cm[0,0]), float(cm[0,1])\n",
    "    fp, tn = float(cm[1,0]), float(cm[1,1])\n"
   ]
  },
  {
   "cell_type": "code",
   "execution_count": 10,
   "metadata": {},
   "outputs": [],
   "source": [
    "def run_grid_search(classifier, parameters, X_train, y_train, X_test, y_test,\n",
    "                    score=None, print_grid_scores=False, verbose=0, n_jobs=1):\n",
    "    '''\n",
    "    input: \n",
    "      classifier: scikit-learn classifier, \n",
    "      parameters: parameters for grid search, \n",
    "      X_train, y_train: the cross-validation training sets,\n",
    "      X_test, y_test: the corss-validation test sets, \n",
    "      score: (None) the scoring function (eg accuracy, precision, recall, ...),\n",
    "      print_grid_scores: (False)boolean to print the grid scores from the grid-search\n",
    "      verbose: (None) passed to the scikit-learn grid search\n",
    "      n_jobs: (1) the number of jobs for parallel processing\n",
    "    return: \n",
    "      the best fit scikit-learn classifier from gridsearch\n",
    "    \n",
    "    Run a grid search with cross-validation on the training data set for the given\n",
    "    classifier, for the given range of parameters, and for the given scoring method.\n",
    "    \n",
    "    Print the confusion matrix and classification report for the test set.\n",
    "    '''\n",
    "    \n",
    "    clf = GridSearchCV(classifier, parameters, scoring=score, \n",
    "                       verbose=verbose, cv=5, n_jobs=n_jobs)\n",
    "    \n",
    "    clf.fit(X_train, y_train)\n",
    "    y_pred = clf.predict(X_test)\n",
    "    \n",
    "    print 'Best parameters on training set:'\n",
    "    print clf.best_params_\n",
    "    print '\\nBest score = {:.4f}'.format(clf.best_score_)\n",
    "    if print_grid_scores:\n",
    "        print '\\nGrid scores on training set:\\n'\n",
    "        for params, mean_score, scores in clf.grid_scores_:\n",
    "            print(\"%0.4f (+/-%0.04f) for %r\"\n",
    "                  % (mean_score, scores.std() * 2, params))\n",
    "    print\n",
    "    print 'Confusion matrix:'\n",
    "    print_confusion_matrix(y_test, y_pred)\n",
    "    print '\\nClassification report:'\n",
    "    print classification_report(y_test, y_pred, digits=5)\n",
    "    return clf"
   ]
  },
  {
   "cell_type": "code",
   "execution_count": 11,
   "metadata": {
    "collapsed": true
   },
   "outputs": [],
   "source": [
    "def plot_roc_curves(models, X_test, y_test):\n",
    "    plt.figure(figsize=(8,8))\n",
    "    ax = plt.gca()\n",
    "    fs=14\n",
    "    \n",
    "    for rf in models:\n",
    "        probs = rf.predict_proba(X_test)\n",
    "        fpr, tpr, thresholds = roc_curve(y_test, probs[:, 1])\n",
    "        roc_auc = auc(fpr, tpr)\n",
    "        ax.plot([0, 1], [0, 1], 'k--')\n",
    "        label = rf.get_params()['scoring']\n",
    "        text = ' (area = {:.3f})'.format(roc_auc)\n",
    "        ax.plot(fpr, tpr, label=label + text)\n",
    "    \n",
    "    ax.set_xlabel('False positive rate', fontsize=fs)\n",
    "    ax.set_ylabel('True positive rate', fontsize=fs)\n",
    "    ax.set_title('ROC curve', fontsize=fs)\n",
    "    ax.set_xticks(np.arange(0.0, 1.01, 0.2))\n",
    "    ax.set_xticklabels(np.arange(0.0,1.01,0.2), fontsize=fs)\n",
    "    ax.set_yticks(np.arange(0.0, 1.01, 0.2))\n",
    "    ax.set_yticklabels(np.arange(0.0,1.01,0.2), fontsize=fs)\n",
    "    ax.set_ylim((0,1.01))\n",
    "    ax.set_xlim((-0.01, 1.0))\n",
    "    plt.legend(fontsize=fs, bbox_to_anchor=(1.05,0.5), loc='center left')\n",
    "    plt.show()"
   ]
  },
  {
   "cell_type": "markdown",
   "metadata": {},
   "source": [
    "## Random Forest Model\n",
    "Use the scikit-learn grid-search modules for a random forest model to find the best model. Three cases are run, optimized on different scores: accuracy, precision and recall. Confusion matrices and the classification report are printed. The ROC results are plotted."
   ]
  },
  {
   "cell_type": "code",
   "execution_count": 12,
   "metadata": {},
   "outputs": [
    {
     "name": "stdout",
     "output_type": "stream",
     "text": [
      "size of training data:  107027,  40\n",
      "size of test data:       45869,  40\n",
      "\n",
      "y_train==0:  98314,  y_train==1: 8713,  balance: 0.9186\n",
      "y_test==0:   42215,  y_test==1:  3654,  balance: 0.9203\n"
     ]
    }
   ],
   "source": [
    "X = data.drop('savings', axis=1)\n",
    "y = data.loc[:,'savings']\n",
    "\n",
    "X_train, X_test, y_train, y_test = get_train_test_data_sets(X, y)\n"
   ]
  },
  {
   "cell_type": "code",
   "execution_count": 13,
   "metadata": {},
   "outputs": [
    {
     "name": "stdout",
     "output_type": "stream",
     "text": [
      "\t          prediction 0    prediction 1\n",
      "\tclass 0      42,215              0\n",
      "\tclass 1           0          3,654\n"
     ]
    }
   ],
   "source": [
    "# the actual confusion matrix for the test set is:\n",
    "print_confusion_matrix(y_test, y_test)"
   ]
  },
  {
   "cell_type": "code",
   "execution_count": 14,
   "metadata": {},
   "outputs": [],
   "source": [
    "rf_parameters = {'n_estimators': [200], \n",
    "                 'max_depth': [6, None],\n",
    "                 'max_features' : ['sqrt', 40],\n",
    "                 'min_samples_split' : [1, 2],\n",
    "                 'class_weight' : [None, {1:5}]}\n",
    "\n",
    "# rf_parameters = {'n_estimators': [100, 200],\n",
    "#                  'max_depth': [4, 8, 16],\n",
    "#                  'class_weight' : [None, {1: 10}]}\n"
   ]
  },
  {
   "cell_type": "code",
   "execution_count": 15,
   "metadata": {},
   "outputs": [
    {
     "name": "stdout",
     "output_type": "stream",
     "text": [
      "Fitting 5 folds for each of 16 candidates, totalling 80 fits\n"
     ]
    },
    {
     "name": "stderr",
     "output_type": "stream",
     "text": [
      "[Parallel(n_jobs=2)]: Done  46 tasks      | elapsed: 22.7min\n",
      "[Parallel(n_jobs=2)]: Done  80 out of  80 | elapsed: 45.1min finished\n"
     ]
    },
    {
     "name": "stdout",
     "output_type": "stream",
     "text": [
      "Best parameters on training set:\n",
      "{'max_features': 'sqrt', 'min_samples_split': 2, 'n_estimators': 200, 'max_depth': None, 'class_weight': None}\n",
      "\n",
      "Best score = 0.9408\n",
      "\n",
      "Confusion matrix:\n",
      "\t          prediction 0    prediction 1\n",
      "\tclass 0      41,638            577\n",
      "\tclass 1       2,085          1,569\n",
      "\n",
      "Classification report:\n",
      "             precision    recall  f1-score   support\n",
      "\n",
      "          0    0.95231   0.98633   0.96902     42215\n",
      "          1    0.73113   0.42939   0.54103      3654\n",
      "\n",
      "avg / total    0.93469   0.94197   0.93493     45869\n",
      "\n"
     ]
    }
   ],
   "source": [
    "rf_a = run_grid_search(RandomForestClassifier(), rf_parameters,\n",
    "                       X_train, y_train, X_test, y_test,\n",
    "                       score='accuracy', verbose=1, n_jobs=2)"
   ]
  },
  {
   "cell_type": "code",
   "execution_count": 16,
   "metadata": {},
   "outputs": [
    {
     "name": "stdout",
     "output_type": "stream",
     "text": [
      "Fitting 5 folds for each of 16 candidates, totalling 80 fits\n"
     ]
    },
    {
     "name": "stderr",
     "output_type": "stream",
     "text": [
      "[Parallel(n_jobs=2)]: Done  46 tasks      | elapsed: 23.7min\n",
      "[Parallel(n_jobs=2)]: Done  80 out of  80 | elapsed: 44.6min finished\n"
     ]
    },
    {
     "name": "stdout",
     "output_type": "stream",
     "text": [
      "Best parameters on training set:\n",
      "{'max_features': 'sqrt', 'min_samples_split': 2, 'n_estimators': 200, 'max_depth': 6, 'class_weight': None}\n",
      "\n",
      "Best score = 0.8906\n",
      "\n",
      "Confusion matrix:\n",
      "\t          prediction 0    prediction 1\n",
      "\tclass 0      42,128             87\n",
      "\tclass 1       3,075            579\n",
      "\n",
      "Classification report:\n",
      "             precision    recall  f1-score   support\n",
      "\n",
      "          0    0.93197   0.99794   0.96383     42215\n",
      "          1    0.86937   0.15846   0.26806      3654\n",
      "\n",
      "avg / total    0.92699   0.93106   0.90840     45869\n",
      "\n"
     ]
    }
   ],
   "source": [
    "rf_p = run_grid_search(RandomForestClassifier(), rf_parameters,\n",
    "                       X_train, y_train, X_test, y_test,\n",
    "                       score='precision', verbose=1, n_jobs=2)"
   ]
  },
  {
   "cell_type": "code",
   "execution_count": 17,
   "metadata": {},
   "outputs": [
    {
     "name": "stdout",
     "output_type": "stream",
     "text": [
      "Fitting 5 folds for each of 16 candidates, totalling 80 fits\n"
     ]
    },
    {
     "name": "stderr",
     "output_type": "stream",
     "text": [
      "[Parallel(n_jobs=2)]: Done  46 tasks      | elapsed: 20.8min\n",
      "[Parallel(n_jobs=2)]: Done  80 out of  80 | elapsed: 39.2min finished\n"
     ]
    },
    {
     "name": "stdout",
     "output_type": "stream",
     "text": [
      "Best parameters on training set:\n",
      "{'max_features': 40, 'min_samples_split': 2, 'n_estimators': 200, 'max_depth': 6, 'class_weight': {1: 5}}\n",
      "\n",
      "Best score = 0.6959\n",
      "\n",
      "Confusion matrix:\n",
      "\t          prediction 0    prediction 1\n",
      "\tclass 0      38,673          3,542\n",
      "\tclass 1       1,167          2,487\n",
      "\n",
      "Classification report:\n",
      "             precision    recall  f1-score   support\n",
      "\n",
      "          0    0.97071   0.91610   0.94261     42215\n",
      "          1    0.41251   0.68062   0.51368      3654\n",
      "\n",
      "avg / total    0.92624   0.89734   0.90844     45869\n",
      "\n"
     ]
    }
   ],
   "source": [
    "rf_r = run_grid_search(RandomForestClassifier(), rf_parameters,\n",
    "                       X_train, y_train, X_test, y_test,\n",
    "                       score='recall', verbose=1, n_jobs=2)"
   ]
  },
  {
   "cell_type": "code",
   "execution_count": 18,
   "metadata": {},
   "outputs": [
    {
     "data": {
      "image/png": "[encoded data removed]",
      "text/plain": [
       "<matplotlib.figure.Figure at 0x102996e10>"
      ]
     },
     "metadata": {},
     "output_type": "display_data"
    }
   ],
   "source": [
    "plot_roc_curves([rf_a, rf_p, rf_r], X_test, y_test)"
   ]
  },
  {
   "cell_type": "markdown",
   "metadata": {},
   "source": [
    "## Logistic Regression\n",
    "Use one-hot encoded data and run logistic regressions using L1 and L2 regularization for a range of scalings. Three models are run, scored using accuracy, precision and recall. The ROC results are plotted."
   ]
  },
  {
   "cell_type": "code",
   "execution_count": 19,
   "metadata": {},
   "outputs": [
    {
     "name": "stdout",
     "output_type": "stream",
     "text": [
      "size of training data:  107027, 560\n",
      "size of test data:       45869, 560\n",
      "\n",
      "y_train==0:  98314,  y_train==1: 8713,  balance: 0.9186\n",
      "y_test==0:   42215,  y_test==1:  3654,  balance: 0.9203\n"
     ]
    }
   ],
   "source": [
    "X_ohe = ohe_data.drop('savings', axis=1)\n",
    "y_ohe = ohe_data.loc[:,'savings']\n",
    "\n",
    "X_ohe_train, X_ohe_test, y_ohe_train, y_ohe_test = get_train_test_data_sets(X_ohe, y_ohe)\n"
   ]
  },
  {
   "cell_type": "code",
   "execution_count": 20,
   "metadata": {},
   "outputs": [],
   "source": [
    "lr_parameters = {'penalty': ['l1', 'l2'], 'C': [1.0, 0.1, 0.01]}\n",
    "\n",
    "#lr_parameters = {'penalty': ['l1'], 'C': [0.1]}"
   ]
  },
  {
   "cell_type": "code",
   "execution_count": 21,
   "metadata": {},
   "outputs": [
    {
     "name": "stdout",
     "output_type": "stream",
     "text": [
      "Fitting 5 folds for each of 6 candidates, totalling 30 fits\n",
      "Best parameters on training set:\n",
      "{'penalty': 'l1', 'C': 1.0}\n",
      "\n",
      "Best score = 0.9372\n",
      "\n",
      "Grid scores on training set:\n",
      "\n",
      "0.9372 (+/-0.0019) for {'penalty': 'l1', 'C': 1.0}\n",
      "0.9367 (+/-0.0019) for {'penalty': 'l2', 'C': 1.0}\n",
      "0.9366 (+/-0.0028) for {'penalty': 'l1', 'C': 0.1}\n",
      "0.9352 (+/-0.0022) for {'penalty': 'l2', 'C': 0.1}\n",
      "0.9300 (+/-0.0026) for {'penalty': 'l1', 'C': 0.01}\n",
      "0.9323 (+/-0.0017) for {'penalty': 'l2', 'C': 0.01}\n",
      "\n",
      "Confusion matrix:\n",
      "\t          prediction 0    prediction 1\n",
      "\tclass 0      41,640            575\n",
      "\tclass 1       2,326          1,328\n",
      "\n",
      "Classification report:\n",
      "             precision    recall  f1-score   support\n",
      "\n",
      "          0    0.94710   0.98638   0.96634     42215\n",
      "          1    0.69785   0.36344   0.47796      3654\n",
      "\n",
      "avg / total    0.92724   0.93675   0.92743     45869\n",
      "\n"
     ]
    },
    {
     "name": "stderr",
     "output_type": "stream",
     "text": [
      "[Parallel(n_jobs=1)]: Done  30 out of  30 | elapsed:  5.8min finished\n"
     ]
    }
   ],
   "source": [
    "lr_a = run_grid_search(LogisticRegression(), lr_parameters, \n",
    "                       X_ohe_train, y_ohe_train, X_ohe_test, y_ohe_test,\n",
    "                       score='accuracy', verbose=1, print_grid_scores=True)"
   ]
  },
  {
   "cell_type": "code",
   "execution_count": 22,
   "metadata": {},
   "outputs": [
    {
     "name": "stdout",
     "output_type": "stream",
     "text": [
      "Fitting 5 folds for each of 6 candidates, totalling 30 fits\n",
      "Best parameters on training set:\n",
      "{'penalty': 'l1', 'C': 0.01}\n",
      "\n",
      "Best score = 0.7669\n",
      "\n",
      "Grid scores on training set:\n",
      "\n",
      "0.7136 (+/-0.0158) for {'penalty': 'l1', 'C': 1.0}\n",
      "0.7106 (+/-0.0127) for {'penalty': 'l2', 'C': 1.0}\n",
      "0.7274 (+/-0.0242) for {'penalty': 'l1', 'C': 0.1}\n",
      "0.7124 (+/-0.0194) for {'penalty': 'l2', 'C': 0.1}\n",
      "0.7669 (+/-0.0567) for {'penalty': 'l1', 'C': 0.01}\n",
      "0.7352 (+/-0.0326) for {'penalty': 'l2', 'C': 0.01}\n",
      "\n",
      "Confusion matrix:\n",
      "\t          prediction 0    prediction 1\n",
      "\tclass 0      41,914            301\n",
      "\tclass 1       2,841            813\n",
      "\n",
      "Classification report:\n",
      "             precision    recall  f1-score   support\n",
      "\n",
      "          0    0.93652   0.99287   0.96387     42215\n",
      "          1    0.72980   0.22250   0.34102      3654\n",
      "\n",
      "avg / total    0.92005   0.93150   0.91426     45869\n",
      "\n"
     ]
    },
    {
     "name": "stderr",
     "output_type": "stream",
     "text": [
      "[Parallel(n_jobs=1)]: Done  30 out of  30 | elapsed:  5.9min finished\n"
     ]
    }
   ],
   "source": [
    "lr_p = run_grid_search(LogisticRegression(), lr_parameters, \n",
    "                       X_ohe_train, y_ohe_train, X_ohe_test, y_ohe_test,\n",
    "                       score='precision', verbose=1, print_grid_scores=True)"
   ]
  },
  {
   "cell_type": "code",
   "execution_count": 23,
   "metadata": {},
   "outputs": [
    {
     "name": "stdout",
     "output_type": "stream",
     "text": [
      "Fitting 5 folds for each of 6 candidates, totalling 30 fits\n",
      "Best parameters on training set:\n",
      "{'penalty': 'l1', 'C': 1.0}\n",
      "\n",
      "Best score = 0.3810\n",
      "\n",
      "Grid scores on training set:\n",
      "\n",
      "0.3810 (+/-0.0273) for {'penalty': 'l1', 'C': 1.0}\n",
      "0.3744 (+/-0.0299) for {'penalty': 'l2', 'C': 1.0}\n",
      "0.3533 (+/-0.0348) for {'penalty': 'l1', 'C': 0.1}\n",
      "0.3424 (+/-0.0304) for {'penalty': 'l2', 'C': 0.1}\n",
      "0.2020 (+/-0.0212) for {'penalty': 'l1', 'C': 0.01}\n",
      "0.2635 (+/-0.0218) for {'penalty': 'l2', 'C': 0.01}\n",
      "\n",
      "Confusion matrix:\n",
      "\t          prediction 0    prediction 1\n",
      "\tclass 0      41,642            573\n",
      "\tclass 1       2,326          1,328\n",
      "\n",
      "Classification report:\n",
      "             precision    recall  f1-score   support\n",
      "\n",
      "          0    0.94710   0.98643   0.96636     42215\n",
      "          1    0.69858   0.36344   0.47813      3654\n",
      "\n",
      "avg / total    0.92730   0.93680   0.92747     45869\n",
      "\n"
     ]
    },
    {
     "name": "stderr",
     "output_type": "stream",
     "text": [
      "[Parallel(n_jobs=1)]: Done  30 out of  30 | elapsed:  5.6min finished\n"
     ]
    }
   ],
   "source": [
    "lr_r = run_grid_search(LogisticRegression(),  lr_parameters, \n",
    "                       X_ohe_train, y_ohe_train, X_ohe_test, y_ohe_test ,\n",
    "                       score='recall', verbose=1, print_grid_scores=True)"
   ]
  },
  {
   "cell_type": "code",
   "execution_count": 24,
   "metadata": {},
   "outputs": [
    {
     "data": {
      "image/png": "[encoded data removed]",
      "text/plain": [
       "<matplotlib.figure.Figure at 0x102996c10>"
      ]
     },
     "metadata": {},
     "output_type": "display_data"
    }
   ],
   "source": [
    "plot_roc_curves([lr_a, lr_p, lr_r], X_ohe_test, y_ohe_test)"
   ]
  },
  {
   "cell_type": "code",
   "execution_count": null,
   "metadata": {
    "collapsed": true
   },
   "outputs": [],
   "source": []
  },
  {
   "cell_type": "markdown",
   "metadata": {},
   "source": [
    "## Incorporate Some Feature Engineering\n",
    "Start with the column \"detailed_household_family_stat\" and convert the classes that have no savings greater than 50K into one class."
   ]
  },
  {
   "cell_type": "code",
   "execution_count": 25,
   "metadata": {},
   "outputs": [],
   "source": [
    "def update_column(column):\n",
    "    dhfs = data[column][data['savings'] == 1].unique()\n",
    "    dhfs.sort()\n",
    "    print 'unique values for svngs = 1', dhfs\n",
    "    dhfs_all = data[column].unique()\n",
    "    dhfs_all.sort()\n",
    "    print 'unique values for all vals ', dhfs_all\n",
    "    \n",
    "    diff = set(dhfs_all).difference(set(dhfs))\n",
    "    print ' the differences are........', diff\n",
    "    if diff is None:\n",
    "        print '\\n diff is empty'\n",
    "        return data[column]\n",
    "    \n",
    "    print ' len(diff)', len(diff)\n",
    "    \n",
    "    val = max(diff) + 1\n",
    "    print ' mapping values to:', val\n",
    "    return data[column].map(lambda x : val if x in diff else x)\n"
   ]
  },
  {
   "cell_type": "code",
   "execution_count": 26,
   "metadata": {},
   "outputs": [
    {
     "name": "stdout",
     "output_type": "stream",
     "text": [
      "(38,)\n",
      "unique values for svngs = 1 [ 0  1  2  3  4  5  6  7 10 11 12 15 16 17 18 19 22 28 30]\n",
      "unique values for all vals  [ 0  1  2  3  4  5  6  7  8  9 10 11 12 13 14 15 16 17 18 19 20 21 22 23 24\n",
      " 25 26 27 28 29 30 31 32 33 34 35 36 37]\n",
      " the differences are........ set([32, 33, 34, 35, 36, 37, 8, 9, 13, 14, 20, 21, 23, 24, 25, 26, 27, 29, 31])\n",
      " len(diff) 19\n",
      " mapping values to: 38\n",
      "(20,)\n"
     ]
    }
   ],
   "source": [
    "print data['detailed_household_family_stat'][data['savings']==0].value_counts().shape\n",
    "data['detailed_household_family_stat'] = update_column('detailed_household_family_stat')\n",
    "print data['detailed_household_family_stat'][data['savings']==0].value_counts().shape\n"
   ]
  },
  {
   "cell_type": "code",
   "execution_count": 27,
   "metadata": {},
   "outputs": [
    {
     "name": "stdout",
     "output_type": "stream",
     "text": [
      "(5,)\n",
      "unique values for svngs = 1 [0 1]\n",
      "unique values for all vals  [0 1 2 3 4]\n",
      " the differences are........ set([2, 3, 4])\n",
      " len(diff) 3\n",
      " mapping values to: 5\n",
      "(3,)\n"
     ]
    }
   ],
   "source": [
    "print data['family_members_under_18'][data['savings']==0].value_counts().shape\n",
    "data['family_members_under_18'] = update_column('family_members_under_18')\n",
    "print data['family_members_under_18'][data['savings']==0].value_counts().shape\n"
   ]
  },
  {
   "cell_type": "code",
   "execution_count": 28,
   "metadata": {},
   "outputs": [
    {
     "name": "stdout",
     "output_type": "stream",
     "text": [
      "confusion matrix:\n",
      "\t          prediction 0    prediction 1\n",
      "\tclass 0      41,355            860\n",
      "\tclass 1       1,998          1,656\n",
      "\n",
      "Detailed classification report:\n",
      "             precision    recall  f1-score   support\n",
      "\n",
      "          0    0.95391   0.97963   0.96660     42215\n",
      "          1    0.65819   0.45320   0.53679      3654\n",
      "\n",
      "avg / total    0.93036   0.93769   0.93236     45869\n",
      "\n"
     ]
    }
   ],
   "source": [
    "rf_clf = RandomForestClassifier(n_estimators = 40, max_depth=None, max_features=40, min_samples_split=1)\n",
    "rf_clf.fit(X_train, y_train)\n",
    "\n",
    "y_pred = rf_clf.predict(X_test)\n",
    "\n",
    "print 'confusion matrix:'\n",
    "print_confusion_matrix(y_test, y_pred)\n",
    "print '\\nDetailed classification report:'\n",
    "print classification_report(y_test, y_pred, digits=5)"
   ]
  },
  {
   "cell_type": "code",
   "execution_count": null,
   "metadata": {
    "collapsed": true
   },
   "outputs": [],
   "source": []
  },
  {
   "cell_type": "markdown",
   "metadata": {
    "collapsed": true
   },
   "source": [
    "## Class Imbalance"
   ]
  },
  {
   "cell_type": "code",
   "execution_count": 32,
   "metadata": {},
   "outputs": [
    {
     "name": "stdout",
     "output_type": "stream",
     "text": [
      "{'n_estimators': [200], 'max_features': ['sqrt', 40], 'min_samples_split': [1, 2], 'max_depth': [6, None], 'class_weight': [None, {1: 5}]}\n"
     ]
    }
   ],
   "source": [
    "print rf_parameters"
   ]
  },
  {
   "cell_type": "code",
   "execution_count": 33,
   "metadata": {},
   "outputs": [],
   "source": [
    "def evaluate_sampling_method(imbalance_method, X, y, X_test, y_test,\n",
    "                             params, score):\n",
    "    imb = imbalance_method()\n",
    "    imb_x, imb_y = imb.fit_sample(X, y)\n",
    "    print 'The new shape is: {:d}, {:d}'.format(imb_x.shape[0], imb_x.shape[1])\n",
    "    print \n",
    "    print '** Class Imbalance ', '-'*39\n",
    "    n0, n1 = (imb_y == 0).sum(), (imb_y == 1).sum()\n",
    "    print 'y==0: {:6d},  y==1: {:4d},  balance: {:.4f}'.format(n0, n1, float(n0)/(n0+n1))\n",
    "    print\n",
    "    print '** Cross Validation ', '-'*38\n",
    "    imb_x_train, imb_x_test, imb_y_train, imb_y_test = get_train_test_data_sets(imb_x, imb_y)\n",
    "    print\n",
    "    print '** Model Training ', '-'*40\n",
    "    clf = run_grid_search(RandomForestClassifier(), params,\n",
    "                          imb_x_train, imb_y_train, imb_x_test, imb_y_test,\n",
    "                          score='recall', verbose=1, n_jobs=2)\n",
    "    \n",
    "    print '** Evaluation on Test set ', '-'*32\n",
    "    y_pred = clf.predict(X_test)\n",
    "    \n",
    "    print 'Confusion matrix:'\n",
    "    print_confusion_matrix(y_test, y_pred)\n",
    "    print '\\nClassification report:'\n",
    "    print classification_report(y_test, y_pred, digits=5)\n",
    "    return imb"
   ]
  },
  {
   "cell_type": "markdown",
   "metadata": {
    "collapsed": true
   },
   "source": [
    "### Random Under-Sampling"
   ]
  },
  {
   "cell_type": "code",
   "execution_count": 34,
   "metadata": {},
   "outputs": [],
   "source": [
    "from imblearn.under_sampling import RandomUnderSampler"
   ]
  },
  {
   "cell_type": "code",
   "execution_count": 35,
   "metadata": {},
   "outputs": [
    {
     "name": "stdout",
     "output_type": "stream",
     "text": [
      "The new shape is: 24734, 40\n",
      "\n",
      "** Class Imbalance  ---------------------------------------\n",
      "y==0:  12367,  y==1: 12367,  balance: 0.5000\n",
      "\n",
      "** Cross Validation  --------------------------------------\n",
      "size of training data:   17313,  40\n",
      "size of test data:        7421,  40\n",
      "\n",
      "y_train==0:   8724,  y_train==1: 8589,  balance: 0.5039\n",
      "y_test==0:    3643,  y_test==1:  3778,  balance: 0.4909\n",
      "\n",
      "** Model Training  ----------------------------------------\n",
      "Fitting 5 folds for each of 16 candidates, totalling 80 fits\n"
     ]
    },
    {
     "name": "stderr",
     "output_type": "stream",
     "text": [
      "[Parallel(n_jobs=2)]: Done  46 tasks      | elapsed:  2.4min\n",
      "[Parallel(n_jobs=2)]: Done  80 out of  80 | elapsed:  4.7min finished\n"
     ]
    },
    {
     "name": "stdout",
     "output_type": "stream",
     "text": [
      "Best parameters on training set:\n",
      "{'max_features': 'sqrt', 'min_samples_split': 2, 'n_estimators': 200, 'max_depth': 6, 'class_weight': {1: 5}}\n",
      "\n",
      "Best score = 0.9885\n",
      "\n",
      "Confusion matrix:\n",
      "\t          prediction 0    prediction 1\n",
      "\tclass 0       1,542          2,101\n",
      "\tclass 1          52          3,726\n",
      "\n",
      "Classification report:\n",
      "             precision    recall  f1-score   support\n",
      "\n",
      "          0    0.96738   0.42328   0.58889      3643\n",
      "          1    0.63944   0.98624   0.77585      3778\n",
      "\n",
      "avg / total    0.80042   0.70988   0.68407      7421\n",
      "\n",
      "** Evaluation on Test set  --------------------------------\n",
      "Confusion matrix:\n",
      "\t          prediction 0    prediction 1\n",
      "\tclass 0      18,013         24,202\n",
      "\tclass 1          40          3,614\n",
      "\n",
      "Classification report:\n",
      "             precision    recall  f1-score   support\n",
      "\n",
      "          0    0.99778   0.42670   0.59776     42215\n",
      "          1    0.12993   0.98905   0.22968      3654\n",
      "\n",
      "avg / total    0.92865   0.47149   0.56844     45869\n",
      "\n"
     ]
    }
   ],
   "source": [
    "rus = evaluate_sampling_method(RandomUnderSampler, X, y, X_test, y_test, \n",
    "                         params=rf_parameters, score='recall')"
   ]
  },
  {
   "cell_type": "markdown",
   "metadata": {},
   "source": [
    "### Under Sampling Using Tomek Links"
   ]
  },
  {
   "cell_type": "code",
   "execution_count": 37,
   "metadata": {
    "collapsed": true
   },
   "outputs": [],
   "source": [
    "from imblearn.under_sampling import TomekLinks"
   ]
  },
  {
   "cell_type": "code",
   "execution_count": 38,
   "metadata": {},
   "outputs": [
    {
     "name": "stdout",
     "output_type": "stream",
     "text": [
      "The new shape is: 149929, 40\n",
      "\n",
      "** Class Imbalance  ---------------------------------------\n",
      "y==0: 137562,  y==1: 12367,  balance: 0.9175\n",
      "\n",
      "** Cross Validation  --------------------------------------\n",
      "size of training data:  104950,  40\n",
      "size of test data:       44979,  40\n",
      "\n",
      "y_train==0:  96263,  y_train==1: 8687,  balance: 0.9172\n",
      "y_test==0:   41299,  y_test==1:  3680,  balance: 0.9182\n",
      "\n",
      "** Model Training  ----------------------------------------\n",
      "Fitting 5 folds for each of 16 candidates, totalling 80 fits\n"
     ]
    },
    {
     "name": "stderr",
     "output_type": "stream",
     "text": [
      "[Parallel(n_jobs=2)]: Done  46 tasks      | elapsed: 24.0min\n",
      "[Parallel(n_jobs=2)]: Done  80 out of  80 | elapsed: 45.1min finished\n"
     ]
    },
    {
     "name": "stdout",
     "output_type": "stream",
     "text": [
      "Best parameters on training set:\n",
      "{'max_features': 40, 'min_samples_split': 2, 'n_estimators': 200, 'max_depth': 6, 'class_weight': {1: 5}}\n",
      "\n",
      "Best score = 0.6946\n",
      "\n",
      "Confusion matrix:\n",
      "\t          prediction 0    prediction 1\n",
      "\tclass 0      38,042          3,257\n",
      "\tclass 1       1,129          2,551\n",
      "\n",
      "Classification report:\n",
      "             precision    recall  f1-score   support\n",
      "\n",
      "          0    0.97118   0.92114   0.94550     41299\n",
      "          1    0.43922   0.69321   0.53773      3680\n",
      "\n",
      "avg / total    0.92766   0.90249   0.91213     44979\n",
      "\n",
      "** Evaluation on Test set  --------------------------------\n",
      "Confusion matrix:\n",
      "\t          prediction 0    prediction 1\n",
      "\tclass 0      38,536          3,679\n",
      "\tclass 1       1,111          2,543\n",
      "\n",
      "Classification report:\n",
      "             precision    recall  f1-score   support\n",
      "\n",
      "          0    0.97198   0.91285   0.94149     42215\n",
      "          1    0.40871   0.69595   0.51499      3654\n",
      "\n",
      "avg / total    0.92711   0.89557   0.90751     45869\n",
      "\n"
     ]
    }
   ],
   "source": [
    "tlinks = evaluate_sampling_method(TomekLinks, X, y, X_test, y_test, \n",
    "                         params=rf_parameters, score='recall')"
   ]
  },
  {
   "cell_type": "markdown",
   "metadata": {},
   "source": [
    "### Random Over Sampling"
   ]
  },
  {
   "cell_type": "code",
   "execution_count": 39,
   "metadata": {},
   "outputs": [],
   "source": [
    "from imblearn.over_sampling import RandomOverSampler"
   ]
  },
  {
   "cell_type": "code",
   "execution_count": 40,
   "metadata": {},
   "outputs": [
    {
     "name": "stdout",
     "output_type": "stream",
     "text": [
      "The new shape is: 281058, 40\n",
      "\n",
      "** Class Imbalance  ---------------------------------------\n",
      "y==0: 140529,  y==1: 140529,  balance: 0.5000\n",
      "\n",
      "** Cross Validation  --------------------------------------\n",
      "size of training data:  196740,  40\n",
      "size of test data:       84318,  40\n",
      "\n",
      "y_train==0:  98180,  y_train==1: 98560,  balance: 0.4990\n",
      "y_test==0:   42349,  y_test==1:  41969,  balance: 0.5023\n",
      "\n",
      "** Model Training  ----------------------------------------\n",
      "Fitting 5 folds for each of 16 candidates, totalling 80 fits\n"
     ]
    },
    {
     "name": "stderr",
     "output_type": "stream",
     "text": [
      "[Parallel(n_jobs=2)]: Done  46 tasks      | elapsed: 55.7min\n",
      "[Parallel(n_jobs=2)]: Done  80 out of  80 | elapsed: 112.9min finished\n"
     ]
    },
    {
     "name": "stdout",
     "output_type": "stream",
     "text": [
      "Best parameters on training set:\n",
      "{'max_features': 40, 'min_samples_split': 2, 'n_estimators': 200, 'max_depth': None, 'class_weight': None}\n",
      "\n",
      "Best score = 0.9994\n",
      "\n",
      "Confusion matrix:\n",
      "\t          prediction 0    prediction 1\n",
      "\tclass 0      40,405          1,944\n",
      "\tclass 1           0         41,969\n",
      "\n",
      "Classification report:\n",
      "             precision    recall  f1-score   support\n",
      "\n",
      "          0    1.00000   0.95410   0.97651     42349\n",
      "          1    0.95573   1.00000   0.97736     41969\n",
      "\n",
      "avg / total    0.97797   0.97694   0.97693     84318\n",
      "\n",
      "** Evaluation on Test set  --------------------------------\n",
      "Confusion matrix:\n",
      "\t          prediction 0    prediction 1\n",
      "\tclass 0      41,606            609\n",
      "\tclass 1           0          3,654\n",
      "\n",
      "Classification report:\n",
      "             precision    recall  f1-score   support\n",
      "\n",
      "          0    1.00000   0.98557   0.99273     42215\n",
      "          1    0.85714   1.00000   0.92308      3654\n",
      "\n",
      "avg / total    0.98862   0.98672   0.98719     45869\n",
      "\n"
     ]
    }
   ],
   "source": [
    "ros = evaluate_sampling_method(RandomOverSampler, X, y, X_test, y_test, \n",
    "                         params=rf_parameters, score='recall')"
   ]
  },
  {
   "cell_type": "code",
   "execution_count": null,
   "metadata": {
    "collapsed": true
   },
   "outputs": [],
   "source": []
  },
  {
   "cell_type": "code",
   "execution_count": null,
   "metadata": {
    "collapsed": true
   },
   "outputs": [],
   "source": []
  },
  {
   "cell_type": "code",
   "execution_count": null,
   "metadata": {
    "collapsed": true
   },
   "outputs": [],
   "source": []
  },
  {
   "cell_type": "code",
   "execution_count": null,
   "metadata": {
    "collapsed": true
   },
   "outputs": [],
   "source": []
  }
 ],
 "metadata": {
  "kernelspec": {
   "display_name": "Python 3 (ipykernel)",
   "language": "python",
   "name": "python3"
  },
  "language_info": {
   "codemirror_mode": {
    "name": "ipython",
    "version": 3
   },
   "file_extension": ".py",
   "mimetype": "text/x-python",
   "name": "python",
   "nbconvert_exporter": "python",
   "pygments_lexer": "ipython3",
   "version": "3.9.13"
  }
 },
 "nbformat": 4,
 "nbformat_minor": 1
}
